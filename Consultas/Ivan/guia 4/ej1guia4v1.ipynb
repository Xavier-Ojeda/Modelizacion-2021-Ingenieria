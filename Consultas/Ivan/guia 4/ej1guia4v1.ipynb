{
 "cells": [
  {
   "cell_type": "code",
   "execution_count": 9,
   "id": "quiet-athletics",
   "metadata": {},
   "outputs": [],
   "source": [
    "import numpy as np\n",
    "import gmsh"
   ]
  },
  {
   "cell_type": "code",
   "execution_count": 10,
   "id": "stable-scoop",
   "metadata": {},
   "outputs": [],
   "source": [
    "densidad= 7850 #\n",
    "A=10E-4\n",
    "L_total=1\n",
    "I=10E-8\n",
    "E= 210E9\n",
    "numero_elementos=3\n",
    "numero_nodos=numero_elementos+1"
   ]
  },
  {
   "cell_type": "code",
   "execution_count": 11,
   "id": "adolescent-summit",
   "metadata": {},
   "outputs": [
    {
     "name": "stdout",
     "output_type": "stream",
     "text": [
      "[[0.         0.        ]\n",
      " [0.33333333 0.        ]\n",
      " [0.66666667 0.        ]\n",
      " [1.         0.        ]]\n",
      "[2 3 4 5 6 7]\n"
     ]
    }
   ],
   "source": [
    "matriz_nodos=np.linspace(0,L_total,numero_elementos+1).reshape(-1,1)\n",
    "matriz_nodos=np.hstack([matriz_nodos , np.zeros_like(matriz_nodos)])\n",
    "print(matriz_nodos)\n",
    "matriz_conectividad=np.array([[0,1],[1,2],[2,3]])\n",
    "matriz_global_rigidez=np.zeros((2*numero_nodos,2*numero_nodos))\n",
    "matriz_global_concentrada=np.zeros((2*numero_nodos,2*numero_nodos))\n",
    "L=L_total/numero_elementos\n",
    "s=[0,1]\n",
    "r=(np.linspace(2,2*numero_nodos-1,2*numero_nodos-2)).astype(int)\n",
    "print(r)"
   ]
  },
  {
   "cell_type": "code",
   "execution_count": 12,
   "id": "immediate-legislation",
   "metadata": {},
   "outputs": [],
   "source": [
    "for i in range (len(matriz_conectividad)):\n",
    "    (a),(b)=matriz_conectividad[i] \n",
    "    a=int(a)\n",
    "    b=int(b)\n",
    "    x1=matriz_nodos[a,0]\n",
    "    x2=matriz_nodos[b,0]\n",
    "    y1=matriz_nodos[a,1]\n",
    "    y2=matriz_nodos[b,1]\n",
    "\n",
    "    coef_k=E*I/L**3\n",
    "    k=coef_k*np.array([[12,6*L,-12,6*L],[6*L,4*L**2,-6*L,2*L**2],[-12,-6*L,12,-6*L],[6*L,2*L**2,-6*L,4*L**2]])\n",
    "    matriz_global_rigidez[2*a:2*(a+1), 2*a:2*(a+1)] += k [0:2,0:2]\n",
    "    matriz_global_rigidez[2*(a):2*(a+1), 2*(b):2*(b+1)] += k [0:2,2:4]\n",
    "    matriz_global_rigidez[2*b:2*(b+1), 2*b:2*(b+1)] += k [2:4,2:4]\n",
    "    matriz_global_rigidez[2*b:2*(b+1), 2*a:2*(a+1)] += k [2:4,0:2]\n",
    "\n",
    "    matriz_concentrada=densidad*A*(L/24)*np.array([[12,0,0,0],[0,L**2,0,0],[0,0,12,0],[0,0,0,L**2]])\n",
    "    matriz_global_concentrada[2*a:2*(a+1), 2*a:2*(a+1)] += matriz_concentrada [0:2,0:2]\n",
    "    matriz_global_concentrada[2*(a):2*(a+1), 2*(b):2*(b+1)] += matriz_concentrada [0:2,2:4]\n",
    "    matriz_global_concentrada[2*b:2*(b+1), 2*b:2*(b+1)] += matriz_concentrada [2:4,2:4]\n",
    "    matriz_global_concentrada[2*b:2*(b+1), 2*a:2*(a+1)] += matriz_concentrada [2:4,0:2]\n",
    "#print(matriz_global_rigidez)\n",
    "#print()\n",
    "#print(matriz_global_concentrada)\n",
    "#scale=np.max((np.max(matriz_global)))\n",
    "#matriz_global[abs(matriz_global/scale) < 1e-9] = 0"
   ]
  },
  {
   "cell_type": "code",
   "execution_count": 13,
   "id": "quiet-cement",
   "metadata": {},
   "outputs": [
    {
     "name": "stdout",
     "output_type": "stream",
     "text": [
      "(6, 6) (6, 6)\n"
     ]
    }
   ],
   "source": [
    "print(matriz_global_concentrada[np.ix_(r,r)].shape, matriz_global_rigidez[np.ix_(r,r)].shape)"
   ]
  },
  {
   "cell_type": "code",
   "execution_count": 14,
   "id": "familiar-blogger",
   "metadata": {},
   "outputs": [
    {
     "name": "stdout",
     "output_type": "stream",
     "text": [
      "[[ 0.1078782   0.32978952 -0.44635954  0.23469896  0.06939118 -0.05129516]\n",
      " [ 0.59378168  1.13877527  0.10705238 -3.45014763  5.12059322 -1.2202646 ]\n",
      " [ 0.36148961  0.3421096   0.26434642 -0.10119412 -0.21382409 -0.09280017]\n",
      " [ 0.88156788 -1.30291596  2.04871432  3.90822572  1.82482791 -3.99970973]\n",
      " [ 0.67109076 -0.42334539 -0.14405979  0.04403293  0.12318331  0.31125687]\n",
      " [ 0.9537416  -2.90348891 -3.70944928 -3.72463733 -3.30034417 -5.88920122]]\n"
     ]
    }
   ],
   "source": [
    "from scipy.linalg import eigh \n",
    "w, vl_r = eigh(matriz_global_rigidez[np.ix_(r,r)], matriz_global_concentrada[np.ix_(r,r)])\n",
    "print(vl_r)"
   ]
  },
  {
   "cell_type": "code",
   "execution_count": 17,
   "id": "level-portal",
   "metadata": {},
   "outputs": [
    {
     "name": "stdout",
     "output_type": "stream",
     "text": [
      "(6, 6)\n",
      "[[ 0.          0.          0.          0.          0.          0.        ]\n",
      " [ 0.          0.          0.          0.          0.          0.        ]\n",
      " [ 0.1078782   0.32978952 -0.44635954  0.23469896  0.06939118 -0.05129516]\n",
      " [ 0.59378168  1.13877527  0.10705238 -3.45014763  5.12059322 -1.2202646 ]\n",
      " [ 0.36148961  0.3421096   0.26434642 -0.10119412 -0.21382409 -0.09280017]\n",
      " [ 0.88156788 -1.30291596  2.04871432  3.90822572  1.82482791 -3.99970973]\n",
      " [ 0.67109076 -0.42334539 -0.14405979  0.04403293  0.12318331  0.31125687]\n",
      " [ 0.9537416  -2.90348891 -3.70944928 -3.72463733 -3.30034417 -5.88920122]]\n"
     ]
    }
   ],
   "source": [
    "\n",
    "vl=np.vstack([np.zeros((2,2*(numero_nodos-1))),vl_r])\n",
    "print(vl_r.shape)\n",
    "print(vl)"
   ]
  },
  {
   "cell_type": "code",
   "execution_count": null,
   "id": "informational-match",
   "metadata": {},
   "outputs": [],
   "source": [
    "frecuencia=np.sqrt(w)/(2*np.pi)\n",
    "print(frecuencia)"
   ]
  },
  {
   "cell_type": "code",
   "execution_count": 18,
   "id": "bizarre-remark",
   "metadata": {},
   "outputs": [
    {
     "name": "stdout",
     "output_type": "stream",
     "text": [
      "[[  0.          -0.          -0.           0.           0.\n",
      "    0.        ]\n",
      " [  0.          -0.          -0.           0.           0.\n",
      "    0.        ]\n",
      " [  0.16075054  -0.77900818   3.09843243   5.33007887   0.56331641\n",
      "   -0.1648001 ]\n",
      " [  0.88480086  -2.68994372  -0.74311074 -78.35381374  41.56888739\n",
      "   -3.92044236]\n",
      " [  0.53865979  -0.80810989  -1.83497709  -2.29814666  -1.73582027\n",
      "   -0.29814659]\n",
      " [  1.31363436   3.07766659 -14.22127759  88.75689478  14.81392144\n",
      "  -12.85018959]\n",
      " [  1.           1.           1.           1.           1.\n",
      "    1.        ]\n",
      " [  1.42118125   6.85843991  25.74937235 -84.58755117 -26.79213695\n",
      "  -18.92071111]]\n"
     ]
    }
   ],
   "source": [
    "vl_normalizado=vl/vl[2*numero_nodos-2,:]\n",
    "print(vl_normalizado)"
   ]
  },
  {
   "cell_type": "code",
   "execution_count": null,
   "id": "artistic-property",
   "metadata": {},
   "outputs": [],
   "source": []
  }
 ],
 "metadata": {
  "kernelspec": {
   "display_name": "Python 3",
   "language": "python",
   "name": "python3"
  },
  "language_info": {
   "codemirror_mode": {
    "name": "ipython",
    "version": 3
   },
   "file_extension": ".py",
   "mimetype": "text/x-python",
   "name": "python",
   "nbconvert_exporter": "python",
   "pygments_lexer": "ipython3",
   "version": "3.9.2"
  }
 },
 "nbformat": 4,
 "nbformat_minor": 5
}

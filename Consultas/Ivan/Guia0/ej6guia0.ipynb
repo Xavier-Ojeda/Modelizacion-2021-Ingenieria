{
 "cells": [
  {
   "cell_type": "markdown",
   "id": "inappropriate-slovenia",
   "metadata": {},
   "source": [
    "La fuerza efectiva que realiza el viento sobre el mástil de un bote de velas puede aproximarse por la siguiente\n",
    "expresión:\n",
    "$F=\\int_{0}^{30}\n",
    "200(z/(\n",
    "5+z))\n",
    "e^{−2 z/300}\n",
    "300\n",
    "dz$\n",
    "(donde F está dada en lbs y las distancias en pies).\n",
    "Estime, utilizando los métodos de trapecios y de Simpson 1/3, cuánto vale la fuerza total y dónde será el punto\n",
    "de acción efectiva de esta fuerza ( d=\n",
    "1\n",
    "F\n",
    "∫\n",
    "0\n",
    "30\n",
    "zf (z)dz ).\n",
    "Utilice varios tamaños de paso de integración, entre 5 y 0.05 pies, y estudie la convergencia de cada método.\n"
   ]
  },
  {
   "cell_type": "code",
   "execution_count": 3,
   "id": "ultimate-questionnaire",
   "metadata": {},
   "outputs": [
    {
     "name": "stdin",
     "output_type": "stream",
     "text": [
      "limite inferior 0\n",
      "limite superior 30\n"
     ]
    },
    {
     "name": "stdout",
     "output_type": "stream",
     "text": [
      "100\n",
      "[10, 20, 30, 40, 50, 60, 70, 80, 90, 100, 110, 120, 130, 140, 150, 160, 170, 180, 190, 200, 210, 220, 230, 240, 250, 260, 270, 280, 290, 300, 310, 320, 330, 340, 350, 360, 370, 380, 390, 400, 410, 420, 430, 440, 450, 460, 470, 480, 490, 500, 510, 520, 530, 540, 550, 560, 570, 580, 590, 600, 610, 620, 630, 640, 650, 660, 670, 680, 690, 700, 710, 720, 730, 740, 750, 760, 770, 780, 790, 800, 810, 820, 830, 840, 850, 860, 870, 880, 890, 900, 910, 920, 930, 940, 950, 960, 970, 980, 990, 1000]\n",
      "[3225.6523917183977, 3431.0362618332665, 3495.7812359883237, 3527.4721655900585, 3546.272158434206, 3558.717064341175, 3567.563310821668, 3574.1746314230913, 3579.3029860658626, 3583.39701695845, 3586.7409742596014, 3589.523693012694, 3591.875528813791, 3593.889368860165, 3595.6331914700077, 3597.1578910309554, 3598.50232754287, 3599.6966851182406, 3600.7647652113856, 3601.7255889879234, 3602.594540042436, 3603.3841942757786, 3604.1049324919773, 3604.765399309985, 3605.3728515667144, 3605.933426059747, 3606.452347606666, 3606.9340923866375, 3607.3825173894065, 3607.8009639020274, 3608.192340911774, 3608.559192829984, 3608.903754871145, 3609.227998635177, 3609.533669856828, 3609.82231984886, 3610.0953318348256, 3610.3539431148033, 3610.5992638137745, 3610.8322928117527, 3611.0539313380164, 3611.264994619331, 3611.4662218997537, 3611.65828509146, 3611.841796269977, 3612.017314190004, 3612.185349967972, 3612.346372052994, 3612.500810588115, 3612.649061247344, 3612.791488620507, 3612.928429206922, 3613.060194069647, 3613.1870711943156, 3613.309327590299, 3613.427211166366, 3613.540952408657, 3613.6507658847813, 3613.756851594765, 3613.8593961867114, 3613.958574052725, 3614.0545483186193, 3614.147471739275, 3614.2374875099003, 3614.3247300023722, 3614.40932543448, 3614.491392479221, 3614.5710428202524, 3614.64838165896, 3614.723508178049, 3614.796515965875, 3614.8674934054106, 3614.9365240311813, 3615.0036868572192, 3615.0690566787944, 3615.1327043502306, 3615.1946970411377, 3615.2550984728023, 3615.3139691367473, 3615.371366496724, 3615.4273451758568, 3615.481957130002, 3615.5352518086065, 3615.587276304014, 3615.638075490313, 3615.6876921523804, 3615.7361671060767, 3615.7835393102505, 3615.8298459711255, 3615.8751226397876, 3615.9194033032204, 3615.96272046934, 3616.005105246636, 3616.0465874186557, 3616.0871955137823, 3616.1269568707003, 3616.1658976997483, 3616.204043140546, 3616.2414173161046, 3616.2780433837024]\n"
     ]
    },
    {
     "data": {
      "text/plain": [
       "[<matplotlib.lines.Line2D at 0x1b8d89d5df0>]"
      ]
     },
     "execution_count": 3,
     "metadata": {},
     "output_type": "execute_result"
    },
    {
     "data": {
      "image/png": "[encoded data removed]",
      "text/plain": [
       "<Figure size 432x288 with 1 Axes>"
      ]
     },
     "metadata": {
      "needs_background": "light"
     },
     "output_type": "display_data"
    }
   ],
   "source": [
    "import numpy as np\n",
    "import matplotlib.pyplot as plt\n",
    "#INTEGRACION POR TRAPECIOS V1.0 (recomendado usar la V4.0) \n",
    "\n",
    "inf=int(input(\"limite inferior\"))\n",
    "sup=int(input(\"limite superior\"))\n",
    "#n=int(input(\"n\"))\n",
    "#print(x)\n",
    "#N=[]\n",
    "#for i in range (0,1000,100):\n",
    " #   print(i)\n",
    "#h=(sup-inf)/n\n",
    "\n",
    "#f=0\n",
    "#x=np.linspace(inf,sup,n)\n",
    "\n",
    "#for i in range(1,n-1):\n",
    "    \n",
    "   # a=200*(x[i]/(x[i]+5))*np.exp((-2*x[i])/300)\n",
    "    #f=f+a\n",
    "#f0=200*(x[0]/(x[0]+5))*np.exp((-2*x[0])/300)\n",
    "#fn=200*(x[n-1]/(x[n-1]+5))*np.exp((-2*x[n-1])/300)\n",
    "#IL=(h/2)*(f0+fn+2*f)\n",
    "#print(IL)\n",
    "\n",
    "\n",
    "#print(x)\n",
    "\n",
    "#INTEGRACION POR TRAPECIOS V2.0\n",
    "N=[]\n",
    "IL=[]\n",
    "for i in range (10,1010,10):\n",
    "    N.append(i)\n",
    "\n",
    "#print(len(N))\n",
    "#print(N)\n",
    "\n",
    "for j in range(len(N)):\n",
    "    h=(sup-inf)/N[j]\n",
    "    x=np.linspace(inf,sup,N[j])\n",
    "    f=0\n",
    "    for i in range(1,N[j]-1):\n",
    "        a=200*(x[i]/(x[i]+5))*np.exp((-2*x[i])/300)\n",
    "        f=f+a\n",
    "    f0=200*(x[0]/(x[0]+5))*np.exp((-2*x[0])/300)\n",
    "    fn=200*(x[N[j]-1]/(x[N[j]-1]+5))*np.exp((-2*x[N[j]-1])/300)\n",
    "    IL.append((h/2)*(f0+fn+2*f))\n",
    "print(IL)\n",
    "for i in range(len(N)):\n",
    "    N[i]=np.log10(N[i])\n",
    "plt.plot(N,IL)"
   ]
  },
  {
   "cell_type": "code",
   "execution_count": 24,
   "id": "desperate-segment",
   "metadata": {},
   "outputs": [
    {
     "name": "stdin",
     "output_type": "stream",
     "text": [
      "limite de integracion inferior 0\n",
      "limite de integracion superior 30\n"
     ]
    }
   ],
   "source": [
    "import numpy as np\n",
    "import matplotlib.pyplot as plt\n",
    "\n",
    "#INTEGRACION POR TRAPECIOS V3.0\n",
    "\n",
    "inf=int(input(\"limite de integracion inferior\"))\n",
    "sup=int(input(\"limite de integracion superior\"))\n",
    "\n",
    "#Genera una función con variable z. La asigna a la función \"f\"\n",
    "f = lambda z: 200 * (z/(5+z)) * np.exp((-2*z)/300)\n",
    "\n",
    "#n=int(input(\"numero de intervalos\"))\n",
    "\n",
    "\n",
    "H=[]\n",
    "#Genera un intervalo espaciado logaritmicamente\n",
    "#np.logspace(a,b,c)--> a= 10^a (limite inferior); b=10^b (limite superior); c=cantidad de intervalos en los que se divide el intervalo [a,b], de una longitud logaritmica\n",
    "#ej: np.logspace(2,4,20)= [100,10000, 20 intervalos equiespaciados en escala logaritmica]\n",
    "#astype(int) hace que los valores del espaciado se guarden como enteros\n",
    "t = np.logspace(0,2,20).astype(int)\n",
    "\n",
    "#Para cada valor de t, evalua la funcion en el limite inferior y superior de integracion\n",
    "#Tambien genera otro espaciado regular, entre los intervalos superior e inferior, con cada uno de los valores de t (Evaluados en el espacio i del vector t)\n",
    "for i in t:\n",
    "    #print(i)\n",
    "    a=f(inf)+f(sup)\n",
    "    #print(a)\n",
    "    x=np.linspace(inf,sup,i)\n",
    "    h=(sup-inf)/i\n",
    "    \n",
    "    #a partir de esto, suma todos los terminos, salvo el primero y el ultimo que ya estan sumados y los multiplica por 2\n",
    "    for j in range(1,i-1):\n",
    "        a=a+2*f(x[j])\n",
    "    #Le damos la forma de trapecio\n",
    "    IL=h*a/2\n",
    "    #Guardamos los valores en un vector. Notar que el append esta dentro del for i in t; es decir, para cada valor i de t genera un IL, que luego lo guarda en el vector H\n",
    "    H.append(IL)"
   ]
  },
  {
   "cell_type": "code",
   "execution_count": 28,
   "id": "israeli-extent",
   "metadata": {},
   "outputs": [
    {
     "name": "stdout",
     "output_type": "stream",
     "text": [
      "[2059.0253439779235, 2059.0253439779235, 2059.0253439779235, 2983.0940072914073, 2983.0940072914073, 3244.094744544233, 3360.086585936164, 3423.78625089175, 3463.4255798865224, 3509.43624809469, 3543.880715948818, 3562.1718685680203, 3576.291339598023, 3586.5493123257083, 3593.9123289483464, 3599.8334267681576, 3604.626165654001, 3607.9910433679647, 3610.65584282361, 3612.7323145065616]\n"
     ]
    }
   ],
   "source": [
    "#INTEGRACION POR SIMPSON V1.0 (ESTA YA ES DEFINITIVA, SE HIZO JUNTO CON TRAPECIOS V3.0)\n",
    "\n",
    "#Aprovechando los valores introducidos en trapecios, se calcula tambien por simpson\n",
    "K=[]\n",
    "\n",
    "#El t=np.logspace ya esta generado en el bloque anterior; el espiritu es el mismo\n",
    "#La diferencia es que requiere un numero impar de intervalos\n",
    "for i in t:\n",
    "    a=f(inf)+f(sup)\n",
    "    #print(a)\n",
    "    x=np.linspace(inf,sup,(2*i)+1)\n",
    "    h=(sup-inf)/((2*i+1-1))\n",
    "\n",
    "    for j in range(1,(2*i)+1-1):\n",
    "        if j % 2 == 0:\n",
    "            a=a+4*f(x[j])\n",
    "        else:\n",
    "            a=a+2*f(x[j])\n",
    "    IL=(h/3)*a\n",
    "    K.append(IL)\n",
    "print(K)\n",
    "\n",
    "#Compensamos el hecho de tener un numero impar de intervalos\n",
    "T=2*t+1\n"
   ]
  },
  {
   "cell_type": "code",
   "execution_count": 26,
   "id": "front-diamond",
   "metadata": {},
   "outputs": [
    {
     "name": "stdin",
     "output_type": "stream",
     "text": [
      "numero de puntos 2\n"
     ]
    },
    {
     "name": "stdout",
     "output_type": "stream",
     "text": [
      "[  1   1   1   2   2   3   4   5   6   8  11  14  18  23  29  37  48  61\n",
      "  78 100]\n",
      "[3723.0364962496615, 3723.0364962496615, 3723.0364962496615, 3723.0364962496615, 3723.0364962496615, 3723.0364962496615, 3723.0364962496615, 3723.0364962496615, 3723.0364962496615, 3723.0364962496615, 3723.0364962496615, 3723.0364962496615, 3723.0364962496615, 3723.0364962496615, 3723.0364962496615, 3723.0364962496615, 3723.0364962496615, 3723.0364962496615, 3723.0364962496615, 3723.0364962496615]\n"
     ]
    }
   ],
   "source": [
    "#INTEGRACION POR CUADRATURA DE GAUSS\n",
    "#Inputs: N=\"numero de puntos\"=numero de puntos a usar en la cuadratura (Usar N: 1-7)\n",
    "#inf=\"limite de integracion inferior\"=limite de integracion inferior de la integral a aproximar\n",
    "#sup=\"limite de integracion superior\"=limite de integracion superior de la integral a aproximar\n",
    "\n",
    "import numpy as np\n",
    "#import matplotlib.pyplot as plt\n",
    "#import copy\n",
    "\n",
    "#importo los datos con np.loadtxt;\n",
    "ti,n,ci = np.loadtxt(\"cuadraturagauss.txt\",unpack=True) \n",
    "Cuad=np.array([\n",
    "                np.array(ti).ravel(),\n",
    "                np.array(n).ravel(),\n",
    "                np.array(ci).ravel()\n",
    "                ])\n",
    "#En la matriz Cuad estan los coeficientes de la cuadratura de Gauss (ti, ci), para un dado numero de puntos (n)\n",
    "#print(Cuad.shape)\n",
    "\n",
    "\n",
    "N=int(input(\"numero de puntos\"))\n",
    "#f= lambda z: z**2\n",
    "#f = lambda z: 200 * (z/(5+z)) * np.exp((-2*z)/300)\n",
    "#inf=float(input(\"limite de integracion inferior\"))\n",
    "#sup=float(input(\"limite de integracion superior\"))\n",
    "m=(sup-inf)/2\n",
    "c=(sup+inf)/2\n",
    "\n",
    "#Evaluacion del cambio de variable en la funcion deseada\n",
    "F = lambda t: f(m*t+c)\n",
    "#print(F(1))\n",
    "T=[]\n",
    "C=[]\n",
    "\n",
    "print(t)\n",
    "L=[]\n",
    "#Busco los coeficientes (ti, ci)\n",
    "for l in t:\n",
    "    j=-1\n",
    "    \n",
    "    for i in n:\n",
    "        j+=1\n",
    "        #print(j)\n",
    "        if N == i:\n",
    "            \n",
    "            T.append(Cuad[0,j])\n",
    "            C.append(Cuad[2,j])\n",
    "    \n",
    "#print(T[0])\n",
    "#t=np.array(t).ravel()\n",
    "#print(t.shape)\n",
    "#print(F(1/np.sqrt(3)))\n",
    "    #print(F(0))\n",
    "    \n",
    "    for i in range(len(T)):\n",
    "        I=0\n",
    "        #print(i)\n",
    "        #print(I)\n",
    "        #print(i,T[i],C[i],F(T[i]),F(-T[i]))\n",
    "        neg=m*C[i]*F(-T[i])\n",
    "        pos=m*C[i]*F(T[i])\n",
    "        if neg==pos:\n",
    "            I+=pos\n",
    "        else:\n",
    "            I+=neg+pos\n",
    "    L.append(I)\n",
    "    \n",
    "print(L)\n"
   ]
  },
  {
   "cell_type": "code",
   "execution_count": 29,
   "id": "endless-problem",
   "metadata": {},
   "outputs": [
    {
     "data": {
      "image/png": "[encoded data removed]",
      "text/plain": [
       "<Figure size 432x288 with 1 Axes>"
      ]
     },
     "metadata": {
      "needs_background": "light"
     },
     "output_type": "display_data"
    },
    {
     "name": "stdout",
     "output_type": "stream",
     "text": [
      "La fuerza efectiva segun trapecios es: 3583.39701695845 lbs La fuerza efectiva segun Simpson es: 3612.7323145065616 lbs\n"
     ]
    }
   ],
   "source": [
    "#ploteo de ambos graficos\n",
    "\n",
    "plt.semilogx(t,H,'b', label = 'Metodo de trapecios')\n",
    "plt.semilogx(T,K,'r', label ='Metodo de Simpson')\n",
    "#plt.semilogx(t,L,'g',label='Cuadratura Gauss')\n",
    "plt.legend(loc = 'center right')\n",
    "plt.ylabel('Valor de la integral')\n",
    "plt.xlabel('numero de intervalos')\n",
    "plt.show()\n",
    "\n",
    "print(\"La fuerza efectiva segun trapecios es:\",H[len(H)-1],\"lbs\",\"La fuerza efectiva segun Simpson es:\",K[len(K)-1],\"lbs\")"
   ]
  },
  {
   "cell_type": "code",
   "execution_count": 31,
   "id": "critical-facial",
   "metadata": {},
   "outputs": [
    {
     "data": {
      "text/plain": [
       "[<matplotlib.lines.Line2D at 0x1b8d8afe880>]"
      ]
     },
     "execution_count": 31,
     "metadata": {},
     "output_type": "execute_result"
    },
    {
     "data": {
      "image/png": "[encoded data removed]",
      "text/plain": [
       "<Figure size 432x288 with 1 Axes>"
      ]
     },
     "metadata": {
      "needs_background": "light"
     },
     "output_type": "display_data"
    }
   ],
   "source": [
    "plt.semilogx(t,L,'g',label='cuadratura gauss')"
   ]
  },
  {
   "cell_type": "code",
   "execution_count": 3,
   "id": "adjacent-fleet",
   "metadata": {},
   "outputs": [],
   "source": [
    "#TRAPECIOS V4.0\n",
    "\n",
    "import numpy as np\n",
    "import matplotlib.pyplot as plt\n",
    "\n",
    "f = lambda z: 200 * (z/(5+z)) * np.exp((-2*z)/300)\n",
    "\n",
    "def trapecios(intervalo, f, pasos):\n",
    "    espaciado=np.linspace(intervalo[0],intervalo[1],pasos)\n",
    "    a=f(intervalo[0])+f(intervalo[0])\n",
    "    \n",
    "    for i in range(1,len(espaciado)-1):\n",
    "        a += 2*f(espaciado[i])\n",
    "    I=((intervalo[0]+intervalo[1])/(2*pasos))*a\n",
    "    \n",
    "    return I\n"
   ]
  },
  {
   "cell_type": "code",
   "execution_count": 7,
   "id": "considered-somerset",
   "metadata": {},
   "outputs": [],
   "source": [
    "#SIMPSON V2.0\n",
    "\n",
    "import numpy as np\n",
    "import matplotlib.pyplot as plt\n",
    "f = lambda z: 200 * (z/(5+z)) * np.exp((-2*z)/300)\n",
    "\n",
    "def simpson(intervalo, f, pasos):\n",
    "    espaciado=np.linspace(intervalo[0],intervalo[1],pasos)\n",
    "    a=f(intervalo[0])+f(intervalo[1])\n",
    "    \n",
    "    for i in range (1,len(espaciado)-1):\n",
    "        if i % 2 == 0:\n",
    "            a += 4*f(espaciado[i])\n",
    "        else:\n",
    "            a += 2*f(espaciado[i])\n",
    "    I=((intervalo[0]+intervalo[1])/(3*(pasos-1)))*a\n",
    "    \n",
    "    return I"
   ]
  },
  {
   "cell_type": "code",
   "execution_count": 8,
   "id": "hydraulic-albuquerque",
   "metadata": {},
   "outputs": [
    {
     "data": {
      "text/plain": [
       "3619.289478209259"
      ]
     },
     "execution_count": 8,
     "metadata": {},
     "output_type": "execute_result"
    }
   ],
   "source": []
  },
  {
   "cell_type": "code",
   "execution_count": null,
   "id": "packed-corrections",
   "metadata": {},
   "outputs": [],
   "source": []
  }
 ],
 "metadata": {
  "kernelspec": {
   "display_name": "Python 3",
   "language": "python",
   "name": "python3"
  },
  "language_info": {
   "codemirror_mode": {
    "name": "ipython",
    "version": 3
   },
   "file_extension": ".py",
   "mimetype": "text/x-python",
   "name": "python",
   "nbconvert_exporter": "python",
   "pygments_lexer": "ipython3",
   "version": "3.9.2"
  }
 },
 "nbformat": 4,
 "nbformat_minor": 5
}

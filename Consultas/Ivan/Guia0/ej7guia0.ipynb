{
 "cells": [
  {
   "cell_type": "code",
   "execution_count": 14,
   "id": "north-poison",
   "metadata": {},
   "outputs": [
    {
     "name": "stdout",
     "output_type": "stream",
     "text": [
      "[2, 89.83625345573222, 76.76966471256266, 75.64722514528478, 75.43917199038293, 75.3804386235003, 75.35905328931395, 75.349827631603, 75.3453360643587, 75.34294207673614, 75.34157313081448, 75.34074508738249, 75.34022068447348, 75.33987563319005, 75.33964113279652, 75.33947728849067, 75.33936003182355, 75.33927433682433, 75.33921053842484, 75.33916225424609, 75.33912517022037, 75.33909630895084, 75.33907357673264, 75.3390554761592, 75.3390409197177, 75.3390291064433, 75.33901943879837, 75.33901146571714, 75.33900484297632, 75.33899930522934, 75.33899464601191, 75.33899070327243, 75.33898734878245, 75.33898448030442, 75.338982015742, 75.33897988873062, 75.33897804528482, 75.33897644122831, 75.33897504020912, 75.33897381215515, 75.3389727320644, 75.33897177905132, 75.33897093559004, 75.33897018691081, 75.33896952051558, 75.33896892578727, 75.33896839367321, 75.33896791642707, 75.33896748739788, 75.33896710085645, 75.33896675185233, 75.33896643609503, 75.33896614985552, 75.33896588988364, 75.33896565333923, 75.33896543773399, 75.33896524088259, 75.33896506086118, 75.33896489597228, 75.33896474471486, 75.33896460575866, 75.33896447792259, 75.33896436015563, 75.3389642515209, 75.33896415118168, 75.33896405838931, 75.33896397247277, 75.33896389282963, 75.33896381891819, 75.3389637502505, 75.3389636863864, 75.33896362692828, 75.33896357151633, 75.33896351982457, 75.33896347155734, 75.33896342644591, 75.33896338424594, 75.3389633447348, 75.3389633077095, 75.3389632729847, 75.33896324039105, 75.33896320977344, 75.33896318098988, 75.33896315391004, 75.33896312841439, 75.33896310439299, 75.33896308174475, 75.33896306037649, 75.33896304020239, 75.33896302114329, 75.33896300312601, 75.33896298608298, 75.33896296995165, 75.33896295467414, 75.33896294019675, 75.33896292646976, 75.33896291344695, 75.33896290108541, 75.33896288934527]\n"
     ]
    }
   ],
   "source": [
    "#METODO RUNGE KUTTA ORDEN 4\n",
    "import numpy as np\n",
    "\n",
    "\n",
    "dydx=lambda x,y: 4*np.exp(0.8*x)-0.5*y\n",
    "#n=int(input(\"numero de pasos\"))\n",
    "yi=[]\n",
    "for n in range(1,100):\n",
    "    x=0\n",
    "    x=np.linspace(0,4,n)\n",
    "#print((x))\n",
    "#print(dydx(0,2))\n",
    "    y=[2]\n",
    "    paso=[]\n",
    "    for j in range(len(x)-1):\n",
    "       # print(j)\n",
    "        h=x[j+1]-x[j]\n",
    "    #print(x[j],y[j],h)\n",
    "        k1=dydx(x[j],y[j])\n",
    "        k2=dydx(x[j]+0.5*h, y[j] +0.5*k1*h)\n",
    "        k3=dydx(x[j]+0.5*h, y[j]+0.5*k2*h)\n",
    "        k4=dydx(x[j]+h, y[j]+k3*h)\n",
    "        y.append(y[j]+(1/6) *(k1+2*k2+2*k3+k4) * h)\n",
    "        #yi=y[j+1]\n",
    "    #print(h,i,j,y[j],k1,k2,k3,k4,y[j])\n",
    "    #print(y)\n",
    "    #print(x[j])\n",
    "        paso.append(j)\n",
    "    yi.append(y[len(x)-1])\n",
    "print(yi)\n",
    "err=[]\n",
    "for i in range(len(yi)):\n",
    "    err.append((yi[i]-75.3389626)/75.3389626)\n",
    "#print(err)\n",
    "#print(y)\n",
    "#print(errruku)"
   ]
  },
  {
   "cell_type": "code",
   "execution_count": 89,
   "id": "heavy-religious",
   "metadata": {},
   "outputs": [
    {
     "name": "stdin",
     "output_type": "stream",
     "text": [
      "numero de pasos 10\n"
     ]
    },
    {
     "name": "stdout",
     "output_type": "stream",
     "text": [
      "75.34294207673614\n",
      "[0.7642259060797412, 0.5800444821662621, 0.5045473230377452, 0.46825926425518327, 0.44948930081789146, 0.4394117741710838, 0.4338927514414778, 0.43083734665341555, 0.4291356971527202]\n"
     ]
    }
   ],
   "source": [
    "import numpy as np\n",
    "\n",
    "\n",
    "dydx=lambda x,y: 4*np.exp(0.8*x)-0.5*y\n",
    "n=int(input(\"numero de pasos\"))\n",
    "err=[]\n",
    "#for n in range(1,100):\n",
    "x=0\n",
    "x=np.linspace(0,4,n)\n",
    "#print((x))\n",
    "#print(dydx(0,2))\n",
    "y=[2]\n",
    "i=[]\n",
    "for j in range(len(x)-1):\n",
    "    # print(j)\n",
    "    h=x[j+1]-x[j]\n",
    "    #print(x[j],y[j],h)\n",
    "    k1=dydx(x[j],y[j])\n",
    "    k2=dydx(x[j]+0.5*h, y[j] +0.5*k1*h)\n",
    "    k3=dydx(x[j]+0.5*h, y[j]+0.5*k2*h)\n",
    "    k4=dydx(x[j]+h, y[j]+k3*h)\n",
    "    y.append(y[j]+(1/6) *(k1+2*k2+2*k3+k4) * h)\n",
    "    yi=y[j+1]\n",
    "    #print(h,i,j,y[j],k1,k2,k3,k4,y[j])\n",
    "    #print(y)\n",
    "    #print(x[j])\n",
    "    #i.append(j)\n",
    "    \n",
    "    err.append((y[j+1]-y[j])/y[j])\n",
    "print(y[len(x)-1])\n",
    "print(err)"
   ]
  },
  {
   "cell_type": "code",
   "execution_count": 62,
   "id": "czech-scene",
   "metadata": {},
   "outputs": [
    {
     "name": "stdout",
     "output_type": "stream",
     "text": [
      "75.26526022881092\n"
     ]
    }
   ],
   "source": [
    "#METODO DE EULER\n",
    "\n",
    "for j in range(len(x)-1):\n",
    "    h=x[j+1]-x[j]\n",
    "    k1=dydx(x[j],y[j])\n",
    "    y.append(y[j]+k1*h)\n",
    "print(y[len(x)]-1)"
   ]
  },
  {
   "cell_type": "code",
   "execution_count": 63,
   "id": "alpha-semiconductor",
   "metadata": {},
   "outputs": [
    {
     "name": "stdout",
     "output_type": "stream",
     "text": [
      "75.33907604912469\n"
     ]
    }
   ],
   "source": [
    "#METODO DE HEUN\n",
    "y=[2]\n",
    "for j in range(len(x)-1):\n",
    "     h=x[j+1]-x[j]\n",
    "     k1=dydx(x[j],y[j])\n",
    "     #y.append(y[j]+k1*h)\n",
    "     y0=y[j]+k1*h\n",
    "     k2=dydx(x[j+1],y0)\n",
    "     y.append(y[j]+0.5*h*(k1+k2))\n",
    "print(y[len(x)-1])"
   ]
  },
  {
   "cell_type": "code",
   "execution_count": 69,
   "id": "closing-hungary",
   "metadata": {},
   "outputs": [],
   "source": [
    "import numpy as np\n",
    "\n",
    "derivada=lambda x,y: 4*np.exp(0.8*x)-0.5*y\n",
    "def ruku(derivada, y0, intervalo, pasos):\n",
    "    yi=[]\n",
    "    \n",
    "    for n in range (2,pasos):\n",
    "        x=np.linspace(intervalo[0],intervalo[1], n)\n",
    "        y=[y0]\n",
    "        \n",
    "        for j in range(len(x)-1):\n",
    "            h=x[j+1]-x[j]\n",
    "        #print(x[j],y[j],h)\n",
    "            k1=derivada(x[j],y[j])\n",
    "            k2=derivada(x[j]+0.5*h, y[j] +0.5*k1*h)\n",
    "            k3=derivada(x[j]+0.5*h, y[j]+0.5*k2*h)\n",
    "            k4=derivada(x[j]+h, y[j]+k3*h)\n",
    "            y.append(y[j]+(1/6) *(k1+2*k2+2*k3+k4) * h)\n",
    "            \n",
    "        yi.append(y[len(x)-1])\n",
    "        #print(yi)\n",
    "    return(yi)\n",
    "    "
   ]
  },
  {
   "cell_type": "code",
   "execution_count": 99,
   "id": "similar-brazil",
   "metadata": {},
   "outputs": [],
   "source": [
    "import numpy as np\n",
    "\n",
    "def Euler(derivada, y0, intervalo, pasos):\n",
    "    yi=[]\n",
    "    \n",
    "    for n in range (2, pasos):\n",
    "        x=np.linspace(intervalo[0],intervalo[1], n)\n",
    "        y=[y0]\n",
    "       \n",
    "        for j in range( len(x)-1 ):\n",
    "            h=x[j+1]-x[j]\n",
    "            k1=derivada(x[j],y[j])\n",
    "            y.append(y[j] + k1 * h)\n",
    "            \n",
    "        yi.append( y [ len(x)-1 ])\n",
    "        \n",
    "    return(yi)\n",
    "    \n",
    "            "
   ]
  },
  {
   "cell_type": "code",
   "execution_count": 102,
   "id": "horizontal-evening",
   "metadata": {},
   "outputs": [],
   "source": [
    "import numpy as np\n",
    "\n",
    "def Heun(derivada, y0, intervalo, pasos):\n",
    "    \n",
    "    yi=[]\n",
    "    \n",
    "    for n in range (2, pasos):\n",
    "        x=np.linspace(intervalo[0],intervalo[1], n)\n",
    "        y=[y0]\n",
    "       \n",
    "        for j in range( len(x)-1 ):\n",
    "            h=x[j+1]-x[j]\n",
    "            k1=derivada(x[j],y[j])\n",
    "            Y=y[j] + k1*h\n",
    "            k2=derivada(x[j+1],Y)\n",
    "            y.append(y[j]+0.5*h*(k1+k2))\n",
    "            \n",
    "        yi.append( y [ len(x)-1 ])\n",
    "        \n",
    "    return(yi)\n",
    "#for j in range(len(x)-1):\n",
    "#     h=x[j+1]-x[j]\n",
    " #    k1=dydx(x[j],y[j])\n",
    "  #   #y.append(y[j]+k1*h)\n",
    "   #  y0=y[j]+k1*h\n",
    "    # k2=dydx(x[j+1],y0)\n",
    "     #y.append(y[j]+0.5*h*(k1+k2))\n",
    "#print(y[len(x)-1])"
   ]
  },
  {
   "cell_type": "code",
   "execution_count": 103,
   "id": "stopped-radical",
   "metadata": {},
   "outputs": [
    {
     "data": {
      "text/plain": [
       "[190.26024157687482,\n",
       " 108.53618563722763,\n",
       " 89.87672111899117,\n",
       " 83.33776733540077,\n",
       " 80.36704189664732,\n",
       " 78.78246501406757,\n",
       " 77.8415581182113,\n",
       " 77.23852354529696,\n",
       " 76.82936084764314,\n",
       " 76.53921329290822,\n",
       " 76.32609874092643,\n",
       " 76.16501364256133,\n",
       " 76.04032220321511,\n",
       " 75.94184389573306,\n",
       " 75.86272111708487,\n",
       " 75.79819877189333,\n",
       " 75.74489614026852,\n",
       " 75.7003566391313,\n",
       " 75.66276062420141,\n",
       " 75.63073712252769,\n",
       " 75.6032373995717,\n",
       " 75.57944820401559,\n",
       " 75.55873107767019,\n",
       " 75.5405791532803,\n",
       " 75.52458591146154,\n",
       " 75.51042225883455,\n",
       " 75.49781948831927,\n",
       " 75.48655645810982,\n",
       " 75.47644983684177,\n",
       " 75.46734660485566,\n",
       " 75.45911823447518,\n",
       " 75.45165613308916,\n",
       " 75.44486804537851,\n",
       " 75.43867519075836,\n",
       " 75.4330099692396,\n",
       " 75.4278141103011,\n",
       " 75.42303716964898,\n",
       " 75.4186353011125,\n",
       " 75.41457024760179,\n",
       " 75.41080850758833,\n",
       " 75.40732064306647,\n",
       " 75.4040807022044,\n",
       " 75.40106573546822,\n",
       " 75.39825538831752,\n",
       " 75.39563155693195,\n",
       " 75.39317809606447,\n",
       " 75.390880570193,\n",
       " 75.38872604078979,\n",
       " 75.38670288383972,\n",
       " 75.38480063279056,\n",
       " 75.38300984296383,\n",
       " 75.38132197413954,\n",
       " 75.37972928858302,\n",
       " 75.37822476223636,\n",
       " 75.37680200716713,\n",
       " 75.37545520367287,\n",
       " 75.37417904069162,\n",
       " 75.37296866337698,\n",
       " 75.37181962687016,\n",
       " 75.37072785544582,\n",
       " 75.36968960632942,\n",
       " 75.36870143758541,\n",
       " 75.3677601795614,\n",
       " 75.36686290944496,\n",
       " 75.36600692855144,\n",
       " 75.36518974201319,\n",
       " 75.36440904058355,\n",
       " 75.36366268430874,\n",
       " 75.36294868785045,\n",
       " 75.36226520727243,\n",
       " 75.36161052812538,\n",
       " 75.36098305468732,\n",
       " 75.36038130023246,\n",
       " 75.35980387821803,\n",
       " 75.35924949429159,\n",
       " 75.35871693903215,\n",
       " 75.35820508134981,\n",
       " 75.35771286247572,\n",
       " 75.35723929048365,\n",
       " 75.35678343528924,\n",
       " 75.35634442408072,\n",
       " 75.35592143713843,\n",
       " 75.3555137040061,\n",
       " 75.3551204999805,\n",
       " 75.35474114288947,\n",
       " 75.35437499013142,\n",
       " 75.3540214359527,\n",
       " 75.35367990894092,\n",
       " 75.35334986971489,\n",
       " 75.35303080879412,\n",
       " 75.35272224463141,\n",
       " 75.35242372179532,\n",
       " 75.3521348092886,\n",
       " 75.35185509899198,\n",
       " 75.35158420422232,\n",
       " 75.35132175839541,\n",
       " 75.35106741378551,\n",
       " 75.35082084037283]"
      ]
     },
     "execution_count": 103,
     "metadata": {},
     "output_type": "execute_result"
    }
   ],
   "source": [
    "Heun(derivada, 2,[0,4], 100)"
   ]
  },
  {
   "cell_type": "code",
   "execution_count": 117,
   "id": "flush-assist",
   "metadata": {},
   "outputs": [
    {
     "name": "stdout",
     "output_type": "stream",
     "text": [
      "198\n",
      "10\n",
      "75.34074508738249\n",
      "13\n",
      "75.33964113279652\n",
      "19\n",
      "75.33912517022037\n",
      "27\n",
      "75.33900484297632\n",
      "37\n",
      "75.33897504020912\n",
      "52\n",
      "75.33896588988364\n",
      "73\n",
      "75.33896347155734\n",
      "101\n",
      "75.33896284789368\n",
      "142\n",
      "75.33896267092095\n",
      "197\n",
      "75.33896262595553\n"
     ]
    },
    {
     "data": {
      "text/plain": [
       "<matplotlib.legend.Legend at 0x179cd56f940>"
      ]
     },
     "execution_count": 117,
     "metadata": {},
     "output_type": "execute_result"
    },
    {
     "data": {
      "image/png": "[encoded data removed]",
      "text/plain": [
       "<Figure size 432x288 with 1 Axes>"
      ]
     },
     "metadata": {
      "needs_background": "light"
     },
     "output_type": "display_data"
    }
   ],
   "source": [
    "import matplotlib.pyplot as plt\n",
    "maximo = 500\n",
    "yR=[]\n",
    "errRuku=[]\n",
    "errEu=[]\n",
    "errHeun=[]\n",
    "derivada=lambda x,y: 4*np.exp(0.8*x)-0.5*y\n",
    "y0=2\n",
    "intervalo=[0,4]\n",
    "pasos=200 #A mas 200 pasos ya Runge Kutta se plancha por no tener mas definicion el valor \"verdadero\"\n",
    "esfuerzo=[]\n",
    "yR=(ruku(derivada, y0, intervalo, pasos))\n",
    "yE = Euler(derivada, y0, intervalo, pasos)\n",
    "yH = Heun(derivada, y0, intervalo, pasos)\n",
    "print(len(yR))\n",
    "nintervalos = np.logspace(1,np.log10(pasos-2), 10).astype(int)\n",
    "for i in nintervalos:\n",
    "    print(i)\n",
    "    print(yR[i])\n",
    "    errRuku.append(abs(75.3389626-yR[i])/75.3389626)\n",
    "    esfuerzo.append(i)\n",
    "    errEu.append(abs(75.3389626-yE[i])/75.3389626)\n",
    "    errHeun.append(abs(75.3389626-yH[i])/75.3389626)\n",
    "    \n",
    "plt.loglog(esfuerzo,errRuku,'r', label = \"Runge-Kutta\")\n",
    "plt.loglog(esfuerzo,errEu,'b', label = \"Euler\")\n",
    "plt.loglog(esfuerzo,errHeun,'g', label = \"Heun\")\n",
    "plt.ylabel('Error')\n",
    "plt.xlabel('numero de intervalos')\n",
    "\n",
    "plt.legend()"
   ]
  },
  {
   "cell_type": "code",
   "execution_count": null,
   "id": "virtual-stevens",
   "metadata": {},
   "outputs": [],
   "source": []
  }
 ],
 "metadata": {
  "kernelspec": {
   "display_name": "Python 3",
   "language": "python",
   "name": "python3"
  },
  "language_info": {
   "codemirror_mode": {
    "name": "ipython",
    "version": 3
   },
   "file_extension": ".py",
   "mimetype": "text/x-python",
   "name": "python",
   "nbconvert_exporter": "python",
   "pygments_lexer": "ipython3",
   "version": "3.9.2"
  }
 },
 "nbformat": 4,
 "nbformat_minor": 5
}

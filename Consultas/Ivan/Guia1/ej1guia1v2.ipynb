{
 "cells": [
  {
   "cell_type": "markdown",
   "id": "complimentary-think",
   "metadata": {},
   "source": [
    "$ \\beta^2 T_{k-N_x} + T_{k-1} -2(1+\\beta^2) T_k +T_{k+1} + \\beta^2 T_{k+N_x}=0    \\\\\n",
    "$ M= \\begin{pmatrix}\n",
    "1 & 0 & 0 & 0 & 0 & 0 & 0 & 0 & 0 \\\\\n",
    "0 & 1 & 0 & 0 & 0 & 0 & 0 & 0 & 0 \\\\\n",
    "0 & 0 & 1 & 0 & 0 & 0 & 0 & 0 & 0 \\\\\n",
    "0 & 0 & 0 & 1 & 0 & 0 & 0 & 0 & 0 \\\\\n",
    "0 & 1 & 0 & 1 & -4 & 1 & 0 & 1 & 0 \\\\\n",
    "0 & 0 & 0 & 0 & 0 & 1 & 0 & 0 & 0 \\\\\n",
    "0 & 0 & 0 & 0 & 0 & 0 & 1 & 0 & 0 \\\\\n",
    "0 & 0 & 0 & 0 & 0 & 0 & 0 & 1 & 0 \\\\\n",
    "0 & 0 & 0 & 0 & 0 & 0 & 0 & 0 & 1 \n",
    "\\end{pmatrix} \n",
    "\\\\\n",
    "\n",
    "T= \\begin{pmatrix}\n",
    "T_0\\\\\n",
    "T_1\\\\\n",
    ".\\\\\n",
    ".\\\\\n",
    ".\\\\\n",
    "T_8\n",
    "\\end{pmatrix}\n",
    "b= \\begin{pmatrix}\n",
    "b_0\\\\\n",
    "b_1\\\\\n",
    "b_2\\\\\n",
    "b_3\\\\\n",
    "0\\\\\n",
    "b_5\\\\\n",
    "b_6\\\\\n",
    "b_7\\\\\n",
    "b_8\\\\\n",
    "\\end{pmatrix}\n",
    "\n"
   ]
  },
  {
   "cell_type": "code",
   "execution_count": 55,
   "id": "acute-weight",
   "metadata": {},
   "outputs": [],
   "source": [
    "Nx=50\n",
    "Ny=50\n",
    "beta=Nx/Ny\n",
    "TA=25 #(lado abajo)\n",
    "TB=75 #lado izq\n",
    "TC=50 #lado der\n",
    "TD=100 #lado arriba\n",
    "#Cdc = condiciones de contorno Cdc=[abajo,izq,der,arriba]\n",
    "Cdc=[0,1,1,0]  #si Cdc[i]=1 -> Flujo; si Cdc[i]=0->Temperatura \n",
    "QA=0\n",
    "QB=0\n",
    "QC=0\n",
    "QD=0"
   ]
  },
  {
   "cell_type": "code",
   "execution_count": 56,
   "id": "solar-cause",
   "metadata": {},
   "outputs": [
    {
     "name": "stdout",
     "output_type": "stream",
     "text": [
      "[[ 25.]\n",
      " [ 25.]\n",
      " [ 25.]\n",
      " ...\n",
      " [100.]\n",
      " [100.]\n",
      " [100.]]\n",
      "[[1. 0. 0. ... 0. 0. 0.]\n",
      " [0. 1. 0. ... 0. 0. 0.]\n",
      " [0. 0. 1. ... 0. 0. 0.]\n",
      " ...\n",
      " [0. 0. 0. ... 1. 0. 0.]\n",
      " [0. 0. 0. ... 0. 1. 0.]\n",
      " [0. 0. 0. ... 0. 0. 1.]]\n"
     ]
    },
    {
     "data": {
      "text/plain": [
       "(2500, 2500)"
      ]
     },
     "execution_count": 56,
     "metadata": {},
     "output_type": "execute_result"
    }
   ],
   "source": [
    "import numpy as np\n",
    "#np.set_printoptions(linewidth=100)\n",
    "M=np.eye(Nx * Ny, Nx * Ny)\n",
    "b=np.zeros((Nx *Ny , 1))\n",
    "\n",
    "dx= 1/(Nx+1)\n",
    "dy= 1/(Ny+1)\n",
    "\n",
    "#calculo de la matriz M y definicion de los bordes de la chapa en la matriz b\n",
    "for i in range (1,Nx-1):\n",
    "    \n",
    "    if Cdc[0]==1: #flujo abajo=0\n",
    "        b[i]=2*QA*dx\n",
    "        k=i\n",
    "        M[k,k]=-2*(1+beta**2)\n",
    "        M[k,k+1]=1\n",
    "        M[k,k-1]=1\n",
    "        M[k,k+Nx]=2\n",
    "    else: #T abajo=fija\n",
    "        b[i]=TA\n",
    "    if Cdc[3]==1: #flujo arriba=0\n",
    "        b[(Nx * Ny)-i-1]=2*QD*dx\n",
    "        k=i+(Ny-1)*Nx\n",
    "        #print(k)\n",
    "        M[k,k]=-2*(1+beta**2)\n",
    "        M[k,k-1]=1\n",
    "        M[k,k-Nx]=2\n",
    "        M[k,k+1]=1\n",
    "    else: #T arriba=fija\n",
    "         b[(Nx * Ny)-i-1]=TD   \n",
    "    \n",
    "    for j in range(1,Ny-1):\n",
    "        k=i+j*Nx\n",
    "        M[k,k]=-2*(1 + beta**2)\n",
    "        M[k,k-1]=1\n",
    "        M[k,k+1]=1\n",
    "        M[k,k-Nx]=beta**2\n",
    "        M[k,k+Nx]=beta**2\n",
    "        \n",
    "        if Cdc[1]==1: #flujo izquierda =0\n",
    "            b[Nx*j]=QB*2*dy\n",
    "            k=j*Nx\n",
    "            M[k,k]=-2*(1+beta**2)\n",
    "            M[k,k+1]=2\n",
    "            M[k,k-Nx]=1\n",
    "            M[k,k+Nx]=1\n",
    "            \n",
    "        elif Cdc[1]==0: #Tizq =fija\n",
    "            b[Nx*j]=TB\n",
    "        \n",
    "        if Cdc[2]==1: #flujo derecha=0\n",
    "            b[(Nx*(j+1)) -1 ]=QC*2*dy\n",
    "            k=(Nx-1)+(j*Nx)\n",
    "            M[k,k]=-2*(1+beta**2)\n",
    "            M[k,k-1]=2\n",
    "            M[k,k-Nx]=1\n",
    "            M[k,k+Nx]=1\n",
    "        elif Cdc[2]==0: #flujo derecha=fija\n",
    "            b[(Nx*(j+1)) -1 ]=TC \n",
    "\n",
    "#for j in range(1,Ny-1):\n",
    " #   if Cdc[1]==1:\n",
    "  #      k=j*Nx\n",
    "   #     M[k,k]=-2*(1+beta**2)\n",
    "    #    M[k,k+1]=2\n",
    "     #   M[k,k-Nx]=1\n",
    "      #  M[k,k+Nx]=1\n",
    "#    if Cdc[2]==1:\n",
    " #       k=(Nx-1)+(j*Nx)\n",
    "  #      M[k,k]=-2*(1+beta**2)\n",
    "   #     M[k,k-1]=2\n",
    "    #    M[k,k-Nx]=1\n",
    "     #   M[k,k+Nx]=1\n",
    "#for i in range(1,Nx-1):\n",
    " #   if Cdc[0]==1:\n",
    "  #      k=i\n",
    "   #     M[k,k]=-2*(1+beta**2)\n",
    "    #    M[k,k+1]=1\n",
    "     #   M[k,k-1]=1\n",
    "      #  M[k,k+Nx]=2\n",
    "#    if Cdc[3]==1:\n",
    " #       k=i+(Ny-1)*Nx\n",
    "  #      print(k)\n",
    "   #     M[k,k]=-2*(1+beta**2)\n",
    "    #    M[k,k-1]=1\n",
    "     #   M[k,k-Nx]=2\n",
    "      #  M[k,k+1]=1\n",
    "#definicion de los bordes en la matriz b\n",
    "\n",
    "#for i in range(1,Nx-1):\n",
    " #   b[i]=TA\n",
    "  #  b[(Nx * Ny)-i-1]=TD\n",
    "#for i in range(1,Ny-1):\n",
    " #   b[Nx*i]=TB\n",
    "  #  b[(Nx*(i+1)) -1 ]=TC\n",
    "\n",
    "#definicion de las esquinas en la matriz b \n",
    "\n",
    "#b[0]=(TA+TB)/2\n",
    "#b[Nx-1]=(TA+TC)/2\n",
    "#b[Nx * (Ny-1)]=(TB+TD)/2\n",
    "#b[(Nx*Ny)-1]=(TC+TD)/2\n",
    "\n",
    "\n",
    "#definicion de las condiciones de contorno en las esquinas, tanto en la matriz b como para los nodos de las esquinas correspondientes a la matriz M\n",
    "if Cdc[1]==1:  #si Qizq=0\n",
    "    b[0]=TA\n",
    "    b[(Nx-1)*Ny]=TD\n",
    "if Cdc[2]==1:  #si Qder=0\n",
    "    b[Nx-1]=TA\n",
    "    b[Nx*Ny-1]=TD\n",
    "\n",
    "if Cdc[0]==1:   #si Qabajo=0\n",
    "    if Cdc[1]==1: #si Qabajo=Qizq=0\n",
    "        M[0,0]=-2*(1+beta**2)\n",
    "        M[0,1]=2\n",
    "        M[0,Nx]=2*beta**2\n",
    "        b[Nx-1]=TC\n",
    "        b[0]=0\n",
    "    elif Cdc[2]==1: #si Qabajo=Qder=0\n",
    "        M[Nx-1,Nx-1]=-2*(1+beta**2)\n",
    "        M[Nx-1,Nx-2]=2\n",
    "        M[Nx-1,2*Nx-1]=2*beta**2\n",
    "        b[0]=TB\n",
    "        b[Nx-1]=0\n",
    "    else: \n",
    "        b[Nx-1]=TC\n",
    "        b[0]=TB    \n",
    "if Cdc[3]==1:  #si Qarriba=0\n",
    "    if Cdc[2]==1: #Si Qarriba=Qder=0\n",
    "        M[(Nx)*Ny-1,Nx*Ny-1]=-2*(1+beta**2)\n",
    "        M[Nx*Ny-1,Nx*Ny-2]=2\n",
    "        M[Nx*Ny-1,Nx*Ny-1-Nx]=2*beta**2\n",
    "        b[(Nx)*Ny-1]=0\n",
    "        b[(Nx-1)*Ny]=TB\n",
    "    elif Cdc[1]==1:  #si Qarriba=Qizq=0\n",
    "        M[(Nx-1)*Ny,(Nx-1)*Ny]=-2*(1+beta**2)\n",
    "        M[(Nx-1)*Ny,(Nx-1)*Ny+1]=2\n",
    "        M[(Nx-1)*Ny,(Nx-1)*Ny-Nx]=2*beta**2\n",
    "        b[(Nx-1)*Ny]=0\n",
    "        b[(Nx)*Ny-1]=TC\n",
    "    else:\n",
    "        b[(Nx)*Ny-1]=TC \n",
    "        b[(Nx-1)*Ny]=TB\n",
    "        \n",
    "        \n",
    "print(b)\n",
    "print(M)\n",
    "M.shape"
   ]
  },
  {
   "cell_type": "code",
   "execution_count": 57,
   "id": "framed-particle",
   "metadata": {},
   "outputs": [
    {
     "name": "stdout",
     "output_type": "stream",
     "text": [
      "[[ 25.          25.          25.         ...  25.          25.          25.        ]\n",
      " [ 26.53061224  26.53061224  26.53061224 ...  26.53061224  26.53061224  26.53061224]\n",
      " [ 28.06122449  28.06122449  28.06122449 ...  28.06122449  28.06122449  28.06122449]\n",
      " ...\n",
      " [ 96.93877551  96.93877551  96.93877551 ...  96.93877551  96.93877551  96.93877551]\n",
      " [ 98.46938776  98.46938776  98.46938776 ...  98.46938776  98.46938776  98.46938776]\n",
      " [100.         100.         100.         ... 100.         100.         100.        ]]\n",
      "[[ 25.76530612  25.          25.         ...  25.          25.          25.76530612]\n",
      " [ 26.53061224  26.53061224  26.53061224 ...  26.53061224  26.53061224  26.53061224]\n",
      " [ 28.06122449  28.06122449  28.06122449 ...  28.06122449  28.06122449  28.06122449]\n",
      " ...\n",
      " [ 96.93877551  96.93877551  96.93877551 ...  96.93877551  96.93877551  96.93877551]\n",
      " [ 98.46938776  98.46938776  98.46938776 ...  98.46938776  98.46938776  98.46938776]\n",
      " [ 99.23469388 100.         100.         ... 100.         100.          99.23469388]]\n"
     ]
    },
    {
     "data": {
      "text/plain": [
       "(50, 50)"
      ]
     },
     "execution_count": 57,
     "metadata": {},
     "output_type": "execute_result"
    }
   ],
   "source": [
    "T=np.linalg.solve(M,b)\n",
    "t=np.zeros((Ny,Nx))\n",
    "\n",
    "\n",
    "#reordeno la matriz de temperaturas (T), en la matriz ordenada t\n",
    "#for j in range (0,Ny):\n",
    " #   for i in range (0,Nx):\n",
    "  #      k=i + j *Nx\n",
    "   #t[Ny-j-1,i]=T[k]\n",
    "\n",
    "for j in range (0,Ny):\n",
    "    for i in range (0,Nx):\n",
    "        k=i + j *Nx\n",
    "        t[j,i]=T[k]\n",
    "print(t)\n",
    "t[0,0] = (t[0,1] + t[1,0])/2\n",
    "t[0,Nx-1] = (t[0,Nx-2] + t[1,Nx-1])/2\n",
    "t[Ny-1,0] = (t[Ny-1,1] + t[Ny-2,0])/2\n",
    "t[Ny-1,Nx-1] = (t[Ny-1,Nx-2] + t[Ny-2,Nx-1])/2\n",
    "\n",
    "    \n",
    "#print(T)\n",
    "print(t)\n",
    "t.shape"
   ]
  },
  {
   "cell_type": "code",
   "execution_count": 58,
   "id": "endless-personality",
   "metadata": {},
   "outputs": [
    {
     "data": {
      "text/plain": [
       "<matplotlib.colorbar.Colorbar at 0x1c82ac18d90>"
      ]
     },
     "execution_count": 58,
     "metadata": {},
     "output_type": "execute_result"
    },
    {
     "data": {
      "image/png": "[encoded data removed]",
      "text/plain": [
       "<Figure size 720x720 with 2 Axes>"
      ]
     },
     "metadata": {
      "needs_background": "light"
     },
     "output_type": "display_data"
    }
   ],
   "source": [
    "import matplotlib.pyplot as plt\n",
    "plt.rc('figure', figsize=(10,10))\n",
    "plt.imshow(t,cmap=\"plasma\")\n",
    "#plt.contourf(t)\n",
    "plt.clim(min(TA,TB,TC,TD)-1,max(TA,TB,TC,TD)+1)  #escala de colores\n",
    "plt.colorbar()\n"
   ]
  },
  {
   "cell_type": "code",
   "execution_count": null,
   "id": "industrial-child",
   "metadata": {},
   "outputs": [],
   "source": []
  },
  {
   "cell_type": "code",
   "execution_count": 59,
   "id": "proved-dakota",
   "metadata": {},
   "outputs": [
    {
     "data": {
      "text/plain": [
       "(50, 50)"
      ]
     },
     "execution_count": 59,
     "metadata": {},
     "output_type": "execute_result"
    }
   ],
   "source": [
    "dx= 1/(Nx+1)\n",
    "dy= 1/(Ny+1)\n",
    "np.set_printoptions(linewidth=100)\n",
    "dTx = np.zeros([Ny,Nx])\n",
    "dTy = np.zeros([Ny,Nx]) \n",
    "x = np.linspace(0,Nx-1,Nx).astype(int)\n",
    "y = np.linspace(0,Ny-1,Ny).astype(int)\n",
    "X,Y=np.meshgrid(x,y)\n",
    "#print(t)\n",
    "#print(X.shape)\n",
    "for i in range(1,Nx-1):\n",
    "    for j in range(1,Ny-1):\n",
    "        dTx [j,i] = (t[j,i+1]-t[j,i-1])/(2*dx)\n",
    "        dTy [j,i] = ((t[j+1,i]-t[j-1,i])/(2*dy))\n",
    "#print(dTx)\n",
    "for j in range(1,Ny-1):\n",
    "    dTx [j,0] = (t[j,1]-t[j,0])/dx\n",
    "    dTy [j,0] = (t[j+1,0]-t[j-1,0])/(2*dy)\n",
    "    \n",
    "    dTx[j,Nx-1] =(t[j,Nx-1]-t[j,Nx-2])/dx\n",
    "    dTy[j,Nx-1] =(t[j+1,Nx-1]-t[j-1,Nx-1])/(2*dy)\n",
    "    \n",
    "for i in range (1,Nx-1):\n",
    "    dTx [0,i] = (t[0,i+1]-t[0,i-1])/(2*dx)\n",
    "    dTy [0,i] = (t[1,i]-t[0,i])/dy\n",
    "    \n",
    "    dTx[Ny-1,i] =(t[Ny-1,i+1]-t[Ny-1,i-1])/(2*dx)\n",
    "    dTy[Ny-1,i] =(t[Ny-1,i]-t[Ny-2,i])/dy\n",
    "dTx[0,0]=(t[0,1]-t[0,0])/dx\n",
    "dTx[0,Nx-1]=(t[0,Nx-1]-t[0,Nx-2])/dx\n",
    "dTx[Ny-1,0]=(t[Ny-1,1]-t[Ny-1,0])/dx\n",
    "dTx[Ny-1,Nx-1]=(t[Ny-1,Nx-1]-t[Ny-1,Nx-2])/dx\n",
    "\n",
    "dTy[0,0]=(t[1,0]-t[0,0])/dy\n",
    "dTy[0,Nx-1]=(t[1,Nx-1]-t[0,Nx-1])/dy\n",
    "dTy[Ny-1,0]=(t[Ny-1,0]-t[Ny-2,0])/dy\n",
    "dTx[Ny-1,Nx-1]=(t[Ny-1,Nx-1]-t[Ny-2,Nx-1])/dy\n",
    "\n",
    "\n",
    "\n",
    "#print(dTy)\n",
    "#print(dTx)   \n",
    "#for i in range(1,Nx-1):\n",
    " #   for j in range(1,Ny-1):  \n",
    "  #      X[j,i] = i\n",
    "   #     Y[j,i] = j     \n",
    "\n",
    "#print(dx,dy)    \n",
    "#print(t)\n",
    "#print(dTx)\n",
    "#print(dTy)\n",
    "\n",
    "Y.shape"
   ]
  },
  {
   "cell_type": "code",
   "execution_count": 60,
   "id": "opponent-expert",
   "metadata": {},
   "outputs": [
    {
     "data": {
      "text/plain": [
       "<matplotlib.streamplot.StreamplotSet at 0x1c82b3ba5e0>"
      ]
     },
     "execution_count": 60,
     "metadata": {},
     "output_type": "execute_result"
    },
    {
     "data": {
      "image/png": "[encoded data removed]",
      "text/plain": [
       "<Figure size 720x720 with 2 Axes>"
      ]
     },
     "metadata": {
      "needs_background": "light"
     },
     "output_type": "display_data"
    }
   ],
   "source": [
    "\n",
    "plt.contourf(X,Y,t,origin='upper',cmap='plasma')#,levels=np.linspace(min(TA,TB,TC,TD)-1,max(TA,TB,TC,TD)+1),cmap='jet') #cmap='jet','summer'\n",
    "# todos los cmap https://matplotlib.org/stable/tutorials/colors/colormaps.html\n",
    "\n",
    "#plt.clim(min(TA,TB,TC,TD)-1,max(TA,TB,TC,TD)+1)  #escala de colores\n",
    "cbar=plt.colorbar()\n",
    "cbar.set_label('T (°C)')\n",
    "plt.streamplot(X,Y,-dTx,-dTy,color='k',density=0.5)#, color='brown')\n",
    "#axes = plt.gca()\n",
    "#axes.set_xlim([0.5,Nx-0.5])\n",
    "#axes.set_ylim([0.5,Ny-1])\n",
    "#plt.savefig('Tfijas.png')"
   ]
  },
  {
   "cell_type": "code",
   "execution_count": null,
   "id": "aging-equation",
   "metadata": {},
   "outputs": [],
   "source": []
  },
  {
   "cell_type": "code",
   "execution_count": null,
   "id": "korean-experiment",
   "metadata": {},
   "outputs": [],
   "source": []
  },
  {
   "cell_type": "code",
   "execution_count": null,
   "id": "integrated-words",
   "metadata": {},
   "outputs": [],
   "source": []
  },
  {
   "cell_type": "code",
   "execution_count": null,
   "id": "latter-blade",
   "metadata": {},
   "outputs": [],
   "source": []
  },
  {
   "cell_type": "code",
   "execution_count": null,
   "id": "fifty-coordination",
   "metadata": {},
   "outputs": [],
   "source": []
  },
  {
   "cell_type": "code",
   "execution_count": null,
   "id": "foreign-bailey",
   "metadata": {},
   "outputs": [],
   "source": []
  }
 ],
 "metadata": {
  "kernelspec": {
   "display_name": "Python 3",
   "language": "python",
   "name": "python3"
  },
  "language_info": {
   "codemirror_mode": {
    "name": "ipython",
    "version": 3
   },
   "file_extension": ".py",
   "mimetype": "text/x-python",
   "name": "python",
   "nbconvert_exporter": "python",
   "pygments_lexer": "ipython3",
   "version": "3.9.2"
  }
 },
 "nbformat": 4,
 "nbformat_minor": 5
}
